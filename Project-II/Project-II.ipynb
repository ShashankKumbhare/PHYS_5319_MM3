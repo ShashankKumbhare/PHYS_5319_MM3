{
 "cells": [
  {
   "cell_type": "markdown",
   "metadata": {},
   "source": [
    "# <span style=\"color:Orange\"> Homework 3 </span>"
   ]
  },
  {
   "cell_type": "code",
   "execution_count": 5,
   "metadata": {},
   "outputs": [],
   "source": [
    "import numpy as np\n",
    "import matplotlib.pyplot as plt\n",
    "plt.style.use('seaborn-whitegrid')"
   ]
  },
  {
   "cell_type": "code",
   "execution_count": null,
   "metadata": {},
   "outputs": [],
   "source": []
  },
  {
   "cell_type": "markdown",
   "metadata": {},
   "source": [
    "## <span style=\"color:red\"> Problem 1 </span>\n",
    "Test the 5-th moment of the random numbers sequence in your programming language  \n",
    "for 10,000 numbers. Does it correlate or not?"
   ]
  },
  {
   "cell_type": "markdown",
   "metadata": {},
   "source": [
    "### <span style=\"color:skyblue\"> Solution Problem 1</span>\n",
    "First order approximation by Euler's method,  \n",
    "![Euler Method](images/method_euler.png)"
   ]
  },
  {
   "cell_type": "code",
   "execution_count": 6,
   "metadata": {},
   "outputs": [],
   "source": [
    "################################################################################\n",
    "######################## euler #################################################\n",
    "def euler(f, a, b, dt, x_0, x_exact = None):\n",
    "    \n",
    "    \"\"\"\n",
    "    General info:\n",
    "        This function returns solutions to the dependent variable (x's) of a\n",
    "        differential equation for the given range of independent variable (t).\n",
    "    Arguments:\n",
    "        f       : 1st derivative of function\n",
    "        a       : Lower limit\n",
    "        b       : Higher limit\n",
    "        dt      : Time step\n",
    "        x_0     : x at time 0 in m/s\n",
    "        x_exact : Exact solution (for plot comparision)\n",
    "    \"\"\"\n",
    "    \n",
    "    t    = np.linspace(a, b, int((b-a)/dt))    # >> Independent variable t\n",
    "    x    = [0] * int((b-a)/dt)                 # >> Dependent variable x\n",
    "    x[0] = x_0\n",
    "    \n",
    "    # Loop for getting x's >>\n",
    "    for i in range(len(t) - 1):\n",
    "        x[i+1] = x[i] + f(x[i], t[i]) * dt\n",
    "    \n",
    "    # Plotting results >>\n",
    "    fig  = plt.figure(figsize = (10, 10))\n",
    "    axes = plt.gca()\n",
    "    if x_exact: axes.plot( t, x_exact(t),        # >> Plotting exact solution\n",
    "                           color     = \"blue\",\n",
    "                           label     = \"Exact solution\" )\n",
    "    axes.plot(             t, x,                 # >> Plotting euler's solution\n",
    "                           color     = \"green\",\n",
    "                           label     = \"Eluer's solution\" )\n",
    "    \n",
    "    # Setting plot elements >>\n",
    "    label_xaxis = \"t\"\n",
    "    label_yaxis = \"v\"\n",
    "    title       = label_yaxis + \" vs \" + label_xaxis + \", dt = \" + str(dt)\n",
    "    axes.set_title(title)\n",
    "    axes.set_xlabel(label_xaxis + \" (sec)\")\n",
    "    axes.set_ylabel(label_yaxis + \" (m/s)\")\n",
    "    axes.legend()\n",
    "    \n",
    "    return None\n",
    "######################## euler #################################################\n",
    "################################################################################\n",
    "\n",
    "\n",
    "################################################################################\n",
    "######################## Given #################################################\n",
    "P   = 400 # >> Power output of motor in Watts\n",
    "m   = 70  # >> Total mass (bicycle + rider) in kg\n",
    "######################## Given #################################################\n",
    "################################################################################\n",
    "\n",
    "\n",
    "################################################################################\n",
    "######################## der_1st ###############################################\n",
    "def der_1st(v, t):\n",
    "    return( P / (m*v) )\n",
    "######################## der_1st ###############################################\n",
    "################################################################################\n",
    "\n",
    "\n",
    "################################################################################\n",
    "######################## v_exact ###############################################\n",
    "def v_exact(t):\n",
    "    v_0 = 4                  # >> Velocity at time 0 in m/s\n",
    "    return( np.sqrt( v_0**2 + 2*P*t/m ) )\n",
    "######################## v_exact ###############################################\n",
    "################################################################################"
   ]
  },
  {
   "cell_type": "markdown",
   "metadata": {},
   "source": [
    "## <span style=\"color:green\"> Final Solution Problem 1</span>"
   ]
  },
  {
   "cell_type": "code",
   "execution_count": 7,
   "metadata": {
    "scrolled": false
   },
   "outputs": [
    {
     "data": {
      "image/png": "[encoded data removed]",
      "text/plain": [
       "<Figure size 720x720 with 1 Axes>"
      ]
     },
     "metadata": {},
     "output_type": "display_data"
    }
   ],
   "source": [
    "euler( f       = der_1st,\n",
    "       a       = 0,\n",
    "       b       = 200,\n",
    "       dt      = 0.1,\n",
    "       x_0     = 4,\n",
    "       x_exact = v_exact )"
   ]
  },
  {
   "cell_type": "code",
   "execution_count": null,
   "metadata": {},
   "outputs": [],
   "source": []
  },
  {
   "cell_type": "code",
   "execution_count": null,
   "metadata": {},
   "outputs": [],
   "source": []
  },
  {
   "cell_type": "markdown",
   "metadata": {},
   "source": [
    "## <span style=\"color:red\"> Problem 2 </span>\n",
    "Take 500 steps 2-dimensional random walk with a unit step length in a single trial,  \n",
    "making ∆x<sub>i</sub> & ∆y<sub>i</sub> in a range of (-1,+1).  \n",
    "(You need to shift/rescal the random numbers in a range [-1,+1])  \n",
    "\n",
    "a. Plot the x-y path for this walk.  \n",
    "\n",
    "b. Plot sqrt(R) vs. sqrt(N) (N is the N-th step), where R = sqrt(x<sup>2</sup> + y<sup>2</sup>).  \n",
    "\n",
    "c. Then average over 100 trial, plot sqrt(R) vs. sqrt(N) again. Discuss.  "
   ]
  },
  {
   "cell_type": "markdown",
   "metadata": {},
   "source": [
    "### <span style=\"color:skyblue\"> Solution Problem 2</span>"
   ]
  },
  {
   "cell_type": "markdown",
   "metadata": {},
   "source": [
    "![dv_dt_p_mv_air_drag](images/dv_dt_p_mv_air_drag.png)"
   ]
  },
  {
   "cell_type": "code",
   "execution_count": 4,
   "metadata": {},
   "outputs": [],
   "source": [
    "################################################################################\n",
    "######################## der_1st_air_drag ######################################\n",
    "A = 0.15\n",
    "def der_1st_air_drag(v, t):\n",
    "    return( P / (m*v) - A*v**2 )\n",
    "######################## der_1st_air_drag ######################################\n",
    "################################################################################"
   ]
  },
  {
   "cell_type": "markdown",
   "metadata": {},
   "source": [
    "### <span style=\"color:green\"> Final Solution Problem 2</span>\n",
    "  \n",
    "### <span style=\"color:skyblue\"> A = 0.15</span>"
   ]
  },
  {
   "cell_type": "code",
   "execution_count": 5,
   "metadata": {},
   "outputs": [
    {
     "data": {
      "image/png": "[encoded data removed]",
      "text/plain": [
       "<Figure size 720x720 with 1 Axes>"
      ]
     },
     "metadata": {},
     "output_type": "display_data"
    }
   ],
   "source": [
    "euler( f       = der_1st_air_drag,\n",
    "       a       = 0,\n",
    "       b       = 200,\n",
    "       dt      = 0.1,\n",
    "       x_0     = 4\n",
    "     )"
   ]
  },
  {
   "cell_type": "code",
   "execution_count": null,
   "metadata": {},
   "outputs": [],
   "source": []
  },
  {
   "cell_type": "code",
   "execution_count": null,
   "metadata": {},
   "outputs": [],
   "source": []
  },
  {
   "cell_type": "markdown",
   "metadata": {},
   "source": [
    "## <span style=\"color:red\"> Problem 3 </span>\n",
    "Use Monte Carlo method to calculate,  \n",
    "![prob_3_I](images/prob_3_I.png)  \n",
    "up to 5 significant figures.  \n",
    "The analytic value is 155/6."
   ]
  },
  {
   "cell_type": "markdown",
   "metadata": {},
   "source": [
    "### <span style=\"color:skyblue\"> Solution Problem 3</span>\n",
    "![solution_problem_3](images/solution_problem_3.png)  "
   ]
  },
  {
   "cell_type": "markdown",
   "metadata": {},
   "source": [
    "### <span style=\"color:green\"> Final Solution Problem 3</span>"
   ]
  },
  {
   "cell_type": "code",
   "execution_count": null,
   "metadata": {},
   "outputs": [],
   "source": []
  },
  {
   "cell_type": "code",
   "execution_count": null,
   "metadata": {},
   "outputs": [],
   "source": []
  },
  {
   "cell_type": "code",
   "execution_count": null,
   "metadata": {},
   "outputs": [],
   "source": []
  }
 ],
 "metadata": {
  "kernelspec": {
   "display_name": "Python 3",
   "language": "python",
   "name": "python3"
  },
  "language_info": {
   "codemirror_mode": {
    "name": "ipython",
    "version": 3
   },
   "file_extension": ".py",
   "mimetype": "text/x-python",
   "name": "python",
   "nbconvert_exporter": "python",
   "pygments_lexer": "ipython3",
   "version": "3.8.5"
  }
 },
 "nbformat": 4,
 "nbformat_minor": 4
}
