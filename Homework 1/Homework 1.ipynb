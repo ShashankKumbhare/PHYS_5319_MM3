{
 "cells": [
  {
   "cell_type": "markdown",
   "metadata": {},
   "source": [
    "# <span style=\"color:Orange\"> Homework 1 </span>"
   ]
  },
  {
   "cell_type": "code",
   "execution_count": 1,
   "metadata": {},
   "outputs": [],
   "source": [
    "import numpy as np"
   ]
  },
  {
   "cell_type": "code",
   "execution_count": null,
   "metadata": {},
   "outputs": [],
   "source": []
  },
  {
   "cell_type": "markdown",
   "metadata": {},
   "source": [
    "### <span style=\"color:skyblue\"> Analytical Integration of  xe<sup>-x</sup> </span>\n",
    "I<sub>a</sub> = 1 - 6e<sup>-5</sup>  \n",
    "**I<sub>a</sub> = 0.959572318**"
   ]
  },
  {
   "cell_type": "code",
   "execution_count": 2,
   "metadata": {},
   "outputs": [],
   "source": [
    "I_a = 0.959572318"
   ]
  },
  {
   "cell_type": "code",
   "execution_count": null,
   "metadata": {},
   "outputs": [],
   "source": []
  },
  {
   "cell_type": "markdown",
   "metadata": {},
   "source": [
    "## <span style=\"color:red\"> Problem 1 </span>\n",
    "Write a program to integrate xe<sup>-x</sup> with x ranging [0, +5] by the trapezoid algorithm.  \n",
    "Choose the number of sub-intervals, N-1, to be 50, 100, 200, and 500.  \n",
    "And compare with the analytic value."
   ]
  },
  {
   "attachments": {},
   "cell_type": "markdown",
   "metadata": {},
   "source": [
    "### <span style=\"color:skyblue\"> Solution Problem 1</span>\n",
    "Trapezoidal integration given by,\n",
    "![Trapezoidal Rule](images/formula_trapezoidal_rule.png)"
   ]
  },
  {
   "cell_type": "code",
   "execution_count": 3,
   "metadata": {},
   "outputs": [],
   "source": [
    "################################################################################\n",
    "######################## trapezoidal ###########################################\n",
    "def trapezoidal(func_math, a, b, n, I_a):\n",
    "    \n",
    "    \"\"\"\n",
    "    General info:\n",
    "        This function returns a numerical integration by Trapezoidal's rule of a mathematical function.\n",
    "    Arguments:\n",
    "        func_math : a mathematical function that we want to integrate\n",
    "        a         : lower limit\n",
    "        b         : higher limit\n",
    "        n         : number of subintervals is n (i.e. n = 0,1,2,....,n)\n",
    "        I_a       : analytical integration (for comparision)\n",
    "    \"\"\"\n",
    "    \n",
    "    if n < 1:\n",
    "        \n",
    "        print(\"Not enough points for trapezoidal integration.\")\n",
    "    \n",
    "    else:\n",
    "        \n",
    "        f_a = func(a)\n",
    "        f_b = func(b)\n",
    "        h   = (b-a) / n\n",
    "        I_n = (f_a + f_b) / 2\n",
    "        \n",
    "        # Loop for adding n-1 terms >>\n",
    "        for i in range(1, n):\n",
    "            x_i = a + i*h\n",
    "            I_n = I_n + func(x_i) * h\n",
    "        \n",
    "        # Printing results >>\n",
    "        print(\"For n = \", n, \": I_n = \", I_n, \", I_n-I_a = \", I_n-I_a, \", (I_n-I_a)/I_a = \", (I_n-I_a)/I_a)\n",
    "        \n",
    "    return None\n",
    "######################## trapezoidal ###########################################\n",
    "################################################################################\n",
    "\n",
    "################################################################################\n",
    "######################## func ##################################################\n",
    "def func(x):\n",
    "    return( x*np.exp(-x) )\n",
    "######################## func ##################################################\n",
    "################################################################################"
   ]
  },
  {
   "cell_type": "markdown",
   "metadata": {},
   "source": [
    "## <span style=\"color:green\"> Final Solution Problem 1</span>"
   ]
  },
  {
   "cell_type": "code",
   "execution_count": 4,
   "metadata": {
    "scrolled": false
   },
   "outputs": [
    {
     "name": "stdout",
     "output_type": "stream",
     "text": [
      "For n =  10 : I_n =  0.9468589481687687 , I_n-I_a =  -0.01271336983123128 , (I_n-I_a)/I_a =  -0.013248996029532483\n",
      "For n =  20 : I_n =  0.9668735702734836 , I_n-I_a =  0.0073012522734836605 , (I_n-I_a)/I_a =  0.007608860881586687\n",
      "For n =  50 : I_n =  0.9738773239697982 , I_n-I_a =  0.014305005969798223 , (I_n-I_a)/I_a =  0.014907689291843685\n",
      "For n =  100 : I_n =  0.9753610199952111 , I_n-I_a =  0.015788701995211096 , (I_n-I_a)/I_a =  0.016453894822767382\n",
      "For n =  200 : I_n =  0.9759425783783413 , I_n-I_a =  0.016370260378341328 , (I_n-I_a)/I_a =  0.017059954806179944\n",
      "For n =  500 : I_n =  0.9762401789385105 , I_n-I_a =  0.01666786093851047 , (I_n-I_a)/I_a =  0.017370093557149146\n"
     ]
    }
   ],
   "source": [
    "trapezoidal(func, 0, 5, 10, I_a)\n",
    "trapezoidal(func, 0, 5, 20, I_a)\n",
    "trapezoidal(func, 0, 5, 50, I_a)\n",
    "trapezoidal(func, 0, 5, 100, I_a)\n",
    "trapezoidal(func, 0, 5, 200, I_a)\n",
    "trapezoidal(func, 0, 5, 500, I_a)"
   ]
  },
  {
   "cell_type": "code",
   "execution_count": null,
   "metadata": {},
   "outputs": [],
   "source": []
  },
  {
   "cell_type": "code",
   "execution_count": null,
   "metadata": {},
   "outputs": [],
   "source": []
  },
  {
   "cell_type": "markdown",
   "metadata": {},
   "source": [
    "## <span style=\"color:red\"> Problem 2 </span>\n",
    "Modify the code in Problem 1 to use Simpson algorithm. Repeat the calculations in Problem 1. List the results in the similar table."
   ]
  },
  {
   "attachments": {},
   "cell_type": "markdown",
   "metadata": {},
   "source": [
    "### <span style=\"color:skyblue\"> Solution Problem 2</span>\n",
    "Simpson's integration given by,\n",
    "![Trapezoidal Rule](images/formula_simpsons_rule.png)"
   ]
  },
  {
   "cell_type": "code",
   "execution_count": 5,
   "metadata": {},
   "outputs": [],
   "source": [
    "################################################################################\n",
    "######################## simpson ###############################################\n",
    "def simpson(func_math, a, b, n, I_a):\n",
    "    \n",
    "    \"\"\"\n",
    "    General info:\n",
    "        This function returns a numerical integration by Simpson's rule of a mathematical function.\n",
    "    Arguments:\n",
    "        func_math : a mathematical function that we want to integrate\n",
    "        a         : lower limit\n",
    "        b         : higher limit\n",
    "        n         : number of subintervals is n (i.e. n = 0,1,2,....,n)\n",
    "        I_a       : analytical integration (for comparision)\n",
    "    \"\"\"\n",
    "    \n",
    "    if n <= 1:\n",
    "        \n",
    "        print(\"Not enough points for trapezoidal integration.\")\n",
    "\n",
    "    else:\n",
    "        \n",
    "        f_a = func(a)\n",
    "        f_b = func(b)\n",
    "        h   = (b-a) / n\n",
    "        I_n = (f_a + f_b) / 3\n",
    "        \n",
    "        # Sum of even terms >>\n",
    "        for i in range(1, int(n/2)):\n",
    "            x_2i = a + 2*i*h\n",
    "            I_n  = I_n + 2/3 * func(x_2i) * h\n",
    "            \n",
    "        # Sum of odd terms >>\n",
    "        for i in range(1, int(n/2) + 1):\n",
    "            x_2i_1 = a + (2*i-1)*h\n",
    "            I_n    = I_n + 4/3 * func(x_2i_1) * h\n",
    "        \n",
    "        # Printing results >>\n",
    "        print(\"For n = \", n, \": I_n = \", I_n, \", I_n-I_a = \", I_n-I_a, \", (I_n-I_a)/I_a = \", (I_n-I_a)/I_a)\n",
    "        \n",
    "    return None\n",
    "######################## simpson ###############################################\n",
    "################################################################################\n",
    "\n",
    "################################################################################\n",
    "######################## func ##################################################\n",
    "def func(x):\n",
    "    return( x*np.exp(-x) )\n",
    "######################## func ##################################################\n",
    "################################################################################"
   ]
  },
  {
   "cell_type": "markdown",
   "metadata": {},
   "source": [
    "### <span style=\"color:green\"> Final Solution Problem 2</span>"
   ]
  },
  {
   "cell_type": "code",
   "execution_count": 6,
   "metadata": {},
   "outputs": [
    {
     "name": "stdout",
     "output_type": "stream",
     "text": [
      "For n =  50 : I_n =  0.9696775676528738 , I_n-I_a =  0.010105249652873849 , (I_n-I_a)/I_a =  0.010530993301198846\n",
      "For n =  100 : I_n =  0.9702406295044438 , I_n-I_a =  0.010668311504443806 , (I_n-I_a)/I_a =  0.011117777476823593\n",
      "For n =  200 : I_n =  0.9705214753401462 , I_n-I_a =  0.010949157340146232 , (I_n-I_a)/I_a =  0.011410455611065504\n",
      "For n =  500 : I_n =  0.9706899303865668 , I_n-I_a =  0.011117612386566833 , (I_n-I_a)/I_a =  0.0115860078266314\n"
     ]
    }
   ],
   "source": [
    "simpson(func, 0, 5, 50, I_a)\n",
    "simpson(func, 0, 5, 100, I_a)\n",
    "simpson(func, 0, 5, 200, I_a)\n",
    "simpson(func, 0, 5, 500, I_a)"
   ]
  },
  {
   "cell_type": "code",
   "execution_count": null,
   "metadata": {},
   "outputs": [],
   "source": []
  },
  {
   "cell_type": "code",
   "execution_count": null,
   "metadata": {},
   "outputs": [],
   "source": []
  },
  {
   "cell_type": "markdown",
   "metadata": {},
   "source": [
    "## <span style=\"color:red\"> Problem 3 </span>\n",
    "Write a program to integrate Problem 1 using Gauss-Legendre algorithm. Just use 10 points.  You may need to use the subroutine ‘gauleg’ from Numerical Recipies to generate {xi, wi}.  \n",
    "**Hint:** a transformation is needed to change [0,5] to [-1,1]."
   ]
  },
  {
   "attachments": {},
   "cell_type": "markdown",
   "metadata": {},
   "source": [
    "### <span style=\"color:skyblue\"> Solution Problem 3</span>\n",
    "![Trapezoidal Rule](images/gauss_legendre.png)"
   ]
  },
  {
   "cell_type": "code",
   "execution_count": 7,
   "metadata": {},
   "outputs": [],
   "source": [
    "################################################################################\n",
    "######################## gau_leg ###############################################\n",
    "def gau_leg(func_math, a, b, I_a):\n",
    "    \n",
    "    \"\"\"\n",
    "    General info:\n",
    "        This function returns a numerical integration by Gauss-Legendre's rule of a mathematical function.\n",
    "    Arguments:\n",
    "        func_math : a mathematical function that we want to integrate\n",
    "        a         : lower limit\n",
    "        b         : higher limit\n",
    "        I_a       : analytical integration (for comparision)\n",
    "    \"\"\"\n",
    "    \n",
    "    # Gauss-Legendre quadrature abscissas >>\n",
    "    t = np.array([-.1488743389, .1488743389, -.4333953941, .4333953941, -.6794095682, .6794095682,\n",
    "                  -.8650633666, .8650633666, -.9739065285, .9739065285])\n",
    "    \n",
    "    # Gauss-Legendre quadrature weights >>)\n",
    "    w = np.array([.2955242247, .2955242247, .2692667193, .2692667193, .2190863625, .2190863625,\n",
    "                  .1494513491, .1494513491, .0666713443, .0666713443])\n",
    "    \n",
    "    # After change of variable: x = (b-a)t/2 + (a+b)/2 >>\n",
    "    x = (b-a)*t/2 + (a+b)/2\n",
    "    \n",
    "    # Loop for n-terms of w_i.f(x_i) >>\n",
    "    I_n = 0\n",
    "    for x_i, w_i in zip(x, w):\n",
    "        I_n = I_n + w_i * func(x_i)\n",
    "    I_n = (b-a)/2 * I_n\n",
    "    \n",
    "    print(\"I_n = \", I_n, \", I_n-I_a = \", I_n-I_a, \", (I_n-I_a)/I_a = \", (I_n-I_a)/I_a)\n",
    "    \n",
    "    return None\n",
    "######################## gau_leg ###############################################\n",
    "################################################################################\n",
    "\n",
    "################################################################################\n",
    "######################## func ##################################################\n",
    "def func(x):\n",
    "    return( x*np.exp(-x) )\n",
    "######################## func ##################################################\n",
    "################################################################################"
   ]
  },
  {
   "cell_type": "markdown",
   "metadata": {},
   "source": [
    "### <span style=\"color:green\"> Final Solution Problem 3</span>"
   ]
  },
  {
   "cell_type": "code",
   "execution_count": 8,
   "metadata": {},
   "outputs": [
    {
     "name": "stdout",
     "output_type": "stream",
     "text": [
      "I_n =  0.9595723179855976 , I_n-I_a =  -1.4402368186949843e-11 , (I_n-I_a)/I_a =  -1.5009153470546284e-11\n"
     ]
    }
   ],
   "source": [
    "gau_leg(func, 0, 5, I_a)"
   ]
  },
  {
   "cell_type": "code",
   "execution_count": null,
   "metadata": {},
   "outputs": [],
   "source": []
  },
  {
   "cell_type": "code",
   "execution_count": null,
   "metadata": {},
   "outputs": [],
   "source": []
  },
  {
   "cell_type": "markdown",
   "metadata": {},
   "source": [
    "## <span style=\"color:red\"> Problem 4 </span>\n",
    "Discuss the error and efficiency (# of points, ) of the three algorithms."
   ]
  },
  {
   "cell_type": "markdown",
   "metadata": {},
   "source": [
    "### <span style=\"color:green\"> Final Solution Problem 3</span>\n",
    "As you can see from Solution to Problem 1, 2 & 3:  \n",
    "1. Gauss-Legendre algorithm is **the most accurate** & **the most efficient** even with **just 10 points**.\n",
    "2. Simpson's algorithm lie on 2nd spot in terms of accuracy.\n",
    "3. Trapezoidal's algorithm is worst among the 3 algorithms.\n",
    "4. In terms of efficiency Trapezoidal's & Simpson's algorithm are not even close to Gauss-Legendre algorithm."
   ]
  },
  {
   "cell_type": "code",
   "execution_count": null,
   "metadata": {},
   "outputs": [],
   "source": []
  },
  {
   "cell_type": "code",
   "execution_count": null,
   "metadata": {},
   "outputs": [],
   "source": []
  }
 ],
 "metadata": {
  "kernelspec": {
   "display_name": "Python 3",
   "language": "python",
   "name": "python3"
  },
  "language_info": {
   "codemirror_mode": {
    "name": "ipython",
    "version": 3
   },
   "file_extension": ".py",
   "mimetype": "text/x-python",
   "name": "python",
   "nbconvert_exporter": "python",
   "pygments_lexer": "ipython3",
   "version": "3.8.5"
  }
 },
 "nbformat": 4,
 "nbformat_minor": 4
}
